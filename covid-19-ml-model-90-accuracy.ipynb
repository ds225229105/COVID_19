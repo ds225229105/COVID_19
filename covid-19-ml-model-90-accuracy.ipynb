{
 "cells": [
  {
   "cell_type": "markdown",
   "id": "f107afeb",
   "metadata": {
    "papermill": {
     "duration": 0.016246,
     "end_time": "2022-12-08T18:31:13.675225",
     "exception": false,
     "start_time": "2022-12-08T18:31:13.658979",
     "status": "completed"
    },
    "tags": []
   },
   "source": [
    "# Introductıon\n",
    "* In this notebook i will create a ML model to predict death situation of covid 19."
   ]
  },
  {
   "cell_type": "markdown",
   "id": "5454c3fe",
   "metadata": {
    "papermill": {
     "duration": 0.016799,
     "end_time": "2022-12-08T18:31:13.707181",
     "exception": false,
     "start_time": "2022-12-08T18:31:13.690382",
     "status": "completed"
    },
    "tags": []
   },
   "source": [
    "### The notebook includes:\n",
    "* Data Importing\n",
    "* Data Preprocessing\n",
    "* Data Preparing & Cleaning\n",
    "* Missing Value Analysis\n",
    "* Data Visualization\n",
    "* Future Selection\n",
    "* Creating Model\n",
    "* Model Analysis\n",
    "* Improving Model\n",
    "* Solving Imbalance Dataset Problem With Undersampling"
   ]
  },
  {
   "cell_type": "code",
   "execution_count": 1,
   "id": "a9155471",
   "metadata": {
    "execution": {
     "iopub.execute_input": "2022-12-08T18:31:13.740649Z",
     "iopub.status.busy": "2022-12-08T18:31:13.739534Z",
     "iopub.status.idle": "2022-12-08T18:31:14.991786Z",
     "shell.execute_reply": "2022-12-08T18:31:14.990444Z"
    },
    "papermill": {
     "duration": 1.272926,
     "end_time": "2022-12-08T18:31:14.994974",
     "exception": false,
     "start_time": "2022-12-08T18:31:13.722048",
     "status": "completed"
    },
    "tags": []
   },
   "outputs": [],
   "source": [
    "import pandas as pd\n",
    "import numpy as np\n",
    "import matplotlib.pyplot as plt\n",
    "import seaborn as sns\n",
    "import warnings\n",
    "warnings.filterwarnings(\"ignore\")"
   ]
  },
  {
   "cell_type": "markdown",
   "id": "87aa4a89",
   "metadata": {
    "execution": {
     "iopub.execute_input": "2022-12-08T15:22:38.109187Z",
     "iopub.status.busy": "2022-12-08T15:22:38.108434Z",
     "iopub.status.idle": "2022-12-08T15:22:38.121459Z",
     "shell.execute_reply": "2022-12-08T15:22:38.119817Z",
     "shell.execute_reply.started": "2022-12-08T15:22:38.109135Z"
    },
    "papermill": {
     "duration": 0.014695,
     "end_time": "2022-12-08T18:31:15.025287",
     "exception": false,
     "start_time": "2022-12-08T18:31:15.010592",
     "status": "completed"
    },
    "tags": []
   },
   "source": [
    "# Abot The Dataset\n",
    "#### This dataset contains an enormous number of anonymized patient-related information including pre-conditions. The raw dataset consists of 21 unique features and 1,048,576 unique patients. In the Boolean features, 1 means \"yes\" and 2 means \"no\". values as 97 and 99 are missing data.\n",
    "\n",
    "* sex: female or male\n",
    "* age: of the patient.\n",
    "* classification: covid test findings. Values 1-3 mean that the patient was diagnosed with covid in different\n",
    "* degrees. 4 or higher means that the patient is not a carrier of covid or that the test is inconclusive.\n",
    "* patient type: hospitalized or not hospitalized.\n",
    "* pneumonia: whether the patient already have air sacs inflammation or not.\n",
    "* pregnancy: whether the patient is pregnant or not.\n",
    "* diabetes: whether the patient has diabetes or not.\n",
    "* copd: Indicates whether the patient has Chronic obstructive pulmonary disease or not.\n",
    "* asthma: whether the patient has asthma or not.\n",
    "* inmsupr: whether the patient is immunosuppressed or not.\n",
    "* hypertension: whether the patient has hypertension or not.\n",
    "* cardiovascular: whether the patient has heart or blood vessels related disease.\n",
    "* renal chronic: whether the patient has chronic renal disease or not.\n",
    "* other disease: whether the patient has other disease or not.\n",
    "* obesity: whether the patient is obese or not.\n",
    "* tobacco: whether the patient is a tobacco user.\n",
    "* usmr: Indicates whether the patient treated medical units of the first, second or third level.\n",
    "* medical unit: type of institution of the National Health System that provided the care.\n",
    "* intubed: whether the patient was connected to the ventilator.\n",
    "* icu: Indicates whether the patient had been admitted to an Intensive Care Unit.\n",
    "* death: indicates whether the patient died or recovered."
   ]
  },
  {
   "cell_type": "markdown",
   "id": "fb5fefbb",
   "metadata": {
    "papermill": {
     "duration": 0.014175,
     "end_time": "2022-12-08T18:31:15.054465",
     "exception": false,
     "start_time": "2022-12-08T18:31:15.040290",
     "status": "completed"
    },
    "tags": []
   },
   "source": [
    "# Overview Dataset"
   ]
  },
  {
   "cell_type": "code",
   "execution_count": 2,
   "id": "e6451afe",
   "metadata": {
    "execution": {
     "iopub.execute_input": "2022-12-08T18:31:15.086242Z",
     "iopub.status.busy": "2022-12-08T18:31:15.085804Z",
     "iopub.status.idle": "2022-12-08T18:31:17.980063Z",
     "shell.execute_reply": "2022-12-08T18:31:17.978498Z"
    },
    "papermill": {
     "duration": 2.914456,
     "end_time": "2022-12-08T18:31:17.984008",
     "exception": false,
     "start_time": "2022-12-08T18:31:15.069552",
     "status": "completed"
    },
    "tags": []
   },
   "outputs": [
    {
     "name": "stdout",
     "output_type": "stream",
     "text": [
      "Shape of df : (1048575, 21)\n"
     ]
    },
    {
     "data": {
      "text/html": [
       "<div>\n",
       "<style scoped>\n",
       "    .dataframe tbody tr th:only-of-type {\n",
       "        vertical-align: middle;\n",
       "    }\n",
       "\n",
       "    .dataframe tbody tr th {\n",
       "        vertical-align: top;\n",
       "    }\n",
       "\n",
       "    .dataframe thead th {\n",
       "        text-align: right;\n",
       "    }\n",
       "</style>\n",
       "<table border=\"1\" class=\"dataframe\">\n",
       "  <thead>\n",
       "    <tr style=\"text-align: right;\">\n",
       "      <th></th>\n",
       "      <th>USMER</th>\n",
       "      <th>MEDICAL_UNIT</th>\n",
       "      <th>SEX</th>\n",
       "      <th>PATIENT_TYPE</th>\n",
       "      <th>DATE_DIED</th>\n",
       "      <th>INTUBED</th>\n",
       "      <th>PNEUMONIA</th>\n",
       "      <th>AGE</th>\n",
       "      <th>PREGNANT</th>\n",
       "      <th>DIABETES</th>\n",
       "      <th>...</th>\n",
       "      <th>ASTHMA</th>\n",
       "      <th>INMSUPR</th>\n",
       "      <th>HIPERTENSION</th>\n",
       "      <th>OTHER_DISEASE</th>\n",
       "      <th>CARDIOVASCULAR</th>\n",
       "      <th>OBESITY</th>\n",
       "      <th>RENAL_CHRONIC</th>\n",
       "      <th>TOBACCO</th>\n",
       "      <th>CLASIFFICATION_FINAL</th>\n",
       "      <th>ICU</th>\n",
       "    </tr>\n",
       "  </thead>\n",
       "  <tbody>\n",
       "    <tr>\n",
       "      <th>0</th>\n",
       "      <td>2</td>\n",
       "      <td>1</td>\n",
       "      <td>1</td>\n",
       "      <td>1</td>\n",
       "      <td>03/05/2020</td>\n",
       "      <td>97</td>\n",
       "      <td>1</td>\n",
       "      <td>65</td>\n",
       "      <td>2</td>\n",
       "      <td>2</td>\n",
       "      <td>...</td>\n",
       "      <td>2</td>\n",
       "      <td>2</td>\n",
       "      <td>1</td>\n",
       "      <td>2</td>\n",
       "      <td>2</td>\n",
       "      <td>2</td>\n",
       "      <td>2</td>\n",
       "      <td>2</td>\n",
       "      <td>3</td>\n",
       "      <td>97</td>\n",
       "    </tr>\n",
       "    <tr>\n",
       "      <th>1</th>\n",
       "      <td>2</td>\n",
       "      <td>1</td>\n",
       "      <td>2</td>\n",
       "      <td>1</td>\n",
       "      <td>03/06/2020</td>\n",
       "      <td>97</td>\n",
       "      <td>1</td>\n",
       "      <td>72</td>\n",
       "      <td>97</td>\n",
       "      <td>2</td>\n",
       "      <td>...</td>\n",
       "      <td>2</td>\n",
       "      <td>2</td>\n",
       "      <td>1</td>\n",
       "      <td>2</td>\n",
       "      <td>2</td>\n",
       "      <td>1</td>\n",
       "      <td>1</td>\n",
       "      <td>2</td>\n",
       "      <td>5</td>\n",
       "      <td>97</td>\n",
       "    </tr>\n",
       "    <tr>\n",
       "      <th>2</th>\n",
       "      <td>2</td>\n",
       "      <td>1</td>\n",
       "      <td>2</td>\n",
       "      <td>2</td>\n",
       "      <td>09/06/2020</td>\n",
       "      <td>1</td>\n",
       "      <td>2</td>\n",
       "      <td>55</td>\n",
       "      <td>97</td>\n",
       "      <td>1</td>\n",
       "      <td>...</td>\n",
       "      <td>2</td>\n",
       "      <td>2</td>\n",
       "      <td>2</td>\n",
       "      <td>2</td>\n",
       "      <td>2</td>\n",
       "      <td>2</td>\n",
       "      <td>2</td>\n",
       "      <td>2</td>\n",
       "      <td>3</td>\n",
       "      <td>2</td>\n",
       "    </tr>\n",
       "    <tr>\n",
       "      <th>3</th>\n",
       "      <td>2</td>\n",
       "      <td>1</td>\n",
       "      <td>1</td>\n",
       "      <td>1</td>\n",
       "      <td>12/06/2020</td>\n",
       "      <td>97</td>\n",
       "      <td>2</td>\n",
       "      <td>53</td>\n",
       "      <td>2</td>\n",
       "      <td>2</td>\n",
       "      <td>...</td>\n",
       "      <td>2</td>\n",
       "      <td>2</td>\n",
       "      <td>2</td>\n",
       "      <td>2</td>\n",
       "      <td>2</td>\n",
       "      <td>2</td>\n",
       "      <td>2</td>\n",
       "      <td>2</td>\n",
       "      <td>7</td>\n",
       "      <td>97</td>\n",
       "    </tr>\n",
       "    <tr>\n",
       "      <th>4</th>\n",
       "      <td>2</td>\n",
       "      <td>1</td>\n",
       "      <td>2</td>\n",
       "      <td>1</td>\n",
       "      <td>21/06/2020</td>\n",
       "      <td>97</td>\n",
       "      <td>2</td>\n",
       "      <td>68</td>\n",
       "      <td>97</td>\n",
       "      <td>1</td>\n",
       "      <td>...</td>\n",
       "      <td>2</td>\n",
       "      <td>2</td>\n",
       "      <td>1</td>\n",
       "      <td>2</td>\n",
       "      <td>2</td>\n",
       "      <td>2</td>\n",
       "      <td>2</td>\n",
       "      <td>2</td>\n",
       "      <td>3</td>\n",
       "      <td>97</td>\n",
       "    </tr>\n",
       "  </tbody>\n",
       "</table>\n",
       "<p>5 rows × 21 columns</p>\n",
       "</div>"
      ],
      "text/plain": [
       "   USMER  MEDICAL_UNIT  SEX  PATIENT_TYPE   DATE_DIED  INTUBED  PNEUMONIA  \\\n",
       "0      2             1    1             1  03/05/2020       97          1   \n",
       "1      2             1    2             1  03/06/2020       97          1   \n",
       "2      2             1    2             2  09/06/2020        1          2   \n",
       "3      2             1    1             1  12/06/2020       97          2   \n",
       "4      2             1    2             1  21/06/2020       97          2   \n",
       "\n",
       "   AGE  PREGNANT  DIABETES  ...  ASTHMA  INMSUPR  HIPERTENSION  OTHER_DISEASE  \\\n",
       "0   65         2         2  ...       2        2             1              2   \n",
       "1   72        97         2  ...       2        2             1              2   \n",
       "2   55        97         1  ...       2        2             2              2   \n",
       "3   53         2         2  ...       2        2             2              2   \n",
       "4   68        97         1  ...       2        2             1              2   \n",
       "\n",
       "   CARDIOVASCULAR  OBESITY  RENAL_CHRONIC  TOBACCO  CLASIFFICATION_FINAL  ICU  \n",
       "0               2        2              2        2                     3   97  \n",
       "1               2        1              1        2                     5   97  \n",
       "2               2        2              2        2                     3    2  \n",
       "3               2        2              2        2                     7   97  \n",
       "4               2        2              2        2                     3   97  \n",
       "\n",
       "[5 rows x 21 columns]"
      ]
     },
     "execution_count": 2,
     "metadata": {},
     "output_type": "execute_result"
    }
   ],
   "source": [
    "df = pd.read_csv(\"/kaggle/input/covid19-dataset/Covid Data.csv\")\n",
    "print(\"Shape of df :\",df.shape)\n",
    "df.head()"
   ]
  },
  {
   "cell_type": "code",
   "execution_count": 3,
   "id": "30bec243",
   "metadata": {
    "execution": {
     "iopub.execute_input": "2022-12-08T18:31:18.018611Z",
     "iopub.status.busy": "2022-12-08T18:31:18.018202Z",
     "iopub.status.idle": "2022-12-08T18:31:18.125923Z",
     "shell.execute_reply": "2022-12-08T18:31:18.123503Z"
    },
    "papermill": {
     "duration": 0.12823,
     "end_time": "2022-12-08T18:31:18.129562",
     "exception": false,
     "start_time": "2022-12-08T18:31:18.001332",
     "status": "completed"
    },
    "tags": []
   },
   "outputs": [
    {
     "name": "stdout",
     "output_type": "stream",
     "text": [
      "<class 'pandas.core.frame.DataFrame'>\n",
      "RangeIndex: 1048575 entries, 0 to 1048574\n",
      "Data columns (total 21 columns):\n",
      " #   Column                Non-Null Count    Dtype \n",
      "---  ------                --------------    ----- \n",
      " 0   USMER                 1048575 non-null  int64 \n",
      " 1   MEDICAL_UNIT          1048575 non-null  int64 \n",
      " 2   SEX                   1048575 non-null  int64 \n",
      " 3   PATIENT_TYPE          1048575 non-null  int64 \n",
      " 4   DATE_DIED             1048575 non-null  object\n",
      " 5   INTUBED               1048575 non-null  int64 \n",
      " 6   PNEUMONIA             1048575 non-null  int64 \n",
      " 7   AGE                   1048575 non-null  int64 \n",
      " 8   PREGNANT              1048575 non-null  int64 \n",
      " 9   DIABETES              1048575 non-null  int64 \n",
      " 10  COPD                  1048575 non-null  int64 \n",
      " 11  ASTHMA                1048575 non-null  int64 \n",
      " 12  INMSUPR               1048575 non-null  int64 \n",
      " 13  HIPERTENSION          1048575 non-null  int64 \n",
      " 14  OTHER_DISEASE         1048575 non-null  int64 \n",
      " 15  CARDIOVASCULAR        1048575 non-null  int64 \n",
      " 16  OBESITY               1048575 non-null  int64 \n",
      " 17  RENAL_CHRONIC         1048575 non-null  int64 \n",
      " 18  TOBACCO               1048575 non-null  int64 \n",
      " 19  CLASIFFICATION_FINAL  1048575 non-null  int64 \n",
      " 20  ICU                   1048575 non-null  int64 \n",
      "dtypes: int64(20), object(1)\n",
      "memory usage: 168.0+ MB\n"
     ]
    }
   ],
   "source": [
    "df.info()"
   ]
  },
  {
   "cell_type": "code",
   "execution_count": 4,
   "id": "6d7dd672",
   "metadata": {
    "execution": {
     "iopub.execute_input": "2022-12-08T18:31:18.164098Z",
     "iopub.status.busy": "2022-12-08T18:31:18.163664Z",
     "iopub.status.idle": "2022-12-08T18:31:18.245624Z",
     "shell.execute_reply": "2022-12-08T18:31:18.243996Z"
    },
    "papermill": {
     "duration": 0.102177,
     "end_time": "2022-12-08T18:31:18.248584",
     "exception": false,
     "start_time": "2022-12-08T18:31:18.146407",
     "status": "completed"
    },
    "tags": []
   },
   "outputs": [
    {
     "data": {
      "text/plain": [
       "0"
      ]
     },
     "execution_count": 4,
     "metadata": {},
     "output_type": "execute_result"
    }
   ],
   "source": [
    "df.isna().sum().sum()"
   ]
  },
  {
   "cell_type": "markdown",
   "id": "e92ad868",
   "metadata": {
    "papermill": {
     "duration": 0.015795,
     "end_time": "2022-12-08T18:31:18.280955",
     "exception": false,
     "start_time": "2022-12-08T18:31:18.265160",
     "status": "completed"
    },
    "tags": []
   },
   "source": [
    "* We have no NaN values but we will have missing values."
   ]
  },
  {
   "cell_type": "markdown",
   "id": "611e80b8",
   "metadata": {
    "papermill": {
     "duration": 0.015204,
     "end_time": "2022-12-08T18:31:18.311705",
     "exception": false,
     "start_time": "2022-12-08T18:31:18.296501",
     "status": "completed"
    },
    "tags": []
   },
   "source": [
    "### Number of unique values by columns"
   ]
  },
  {
   "cell_type": "code",
   "execution_count": 5,
   "id": "6be47b51",
   "metadata": {
    "execution": {
     "iopub.execute_input": "2022-12-08T18:31:18.344955Z",
     "iopub.status.busy": "2022-12-08T18:31:18.343833Z",
     "iopub.status.idle": "2022-12-08T18:31:18.550425Z",
     "shell.execute_reply": "2022-12-08T18:31:18.549116Z"
    },
    "papermill": {
     "duration": 0.226842,
     "end_time": "2022-12-08T18:31:18.553977",
     "exception": false,
     "start_time": "2022-12-08T18:31:18.327135",
     "status": "completed"
    },
    "tags": []
   },
   "outputs": [
    {
     "name": "stdout",
     "output_type": "stream",
     "text": [
      "USMER =>\t 2\n",
      "MEDICAL_UNIT =>\t 13\n",
      "SEX =>\t 2\n",
      "PATIENT_TYPE =>\t 2\n",
      "DATE_DIED =>\t 401\n",
      "INTUBED =>\t 4\n",
      "PNEUMONIA =>\t 3\n",
      "AGE =>\t 121\n",
      "PREGNANT =>\t 4\n",
      "DIABETES =>\t 3\n",
      "COPD =>\t 3\n",
      "ASTHMA =>\t 3\n",
      "INMSUPR =>\t 3\n",
      "HIPERTENSION =>\t 3\n",
      "OTHER_DISEASE =>\t 3\n",
      "CARDIOVASCULAR =>\t 3\n",
      "OBESITY =>\t 3\n",
      "RENAL_CHRONIC =>\t 3\n",
      "TOBACCO =>\t 3\n",
      "CLASIFFICATION_FINAL =>\t 7\n",
      "ICU =>\t 4\n"
     ]
    }
   ],
   "source": [
    "for i in df.columns:\n",
    "    print(i,\"=>\\t\",len(df[i].unique()))"
   ]
  },
  {
   "cell_type": "code",
   "execution_count": 6,
   "id": "fec4a403",
   "metadata": {
    "execution": {
     "iopub.execute_input": "2022-12-08T18:31:18.587650Z",
     "iopub.status.busy": "2022-12-08T18:31:18.587189Z",
     "iopub.status.idle": "2022-12-08T18:31:18.665462Z",
     "shell.execute_reply": "2022-12-08T18:31:18.664039Z"
    },
    "papermill": {
     "duration": 0.0981,
     "end_time": "2022-12-08T18:31:18.668217",
     "exception": false,
     "start_time": "2022-12-08T18:31:18.570117",
     "status": "completed"
    },
    "tags": []
   },
   "outputs": [
    {
     "data": {
      "text/plain": [
       "9999-99-99    971633\n",
       "06/07/2020      1000\n",
       "07/07/2020       996\n",
       "13/07/2020       990\n",
       "16/06/2020       979\n",
       "               ...  \n",
       "24/11/2020         1\n",
       "17/12/2020         1\n",
       "08/12/2020         1\n",
       "16/03/2021         1\n",
       "22/04/2021         1\n",
       "Name: DATE_DIED, Length: 401, dtype: int64"
      ]
     },
     "execution_count": 6,
     "metadata": {},
     "output_type": "execute_result"
    }
   ],
   "source": [
    "df.DATE_DIED.value_counts()"
   ]
  },
  {
   "cell_type": "code",
   "execution_count": 7,
   "id": "9bc7466f",
   "metadata": {
    "execution": {
     "iopub.execute_input": "2022-12-08T18:31:18.702253Z",
     "iopub.status.busy": "2022-12-08T18:31:18.701823Z",
     "iopub.status.idle": "2022-12-08T18:31:18.720807Z",
     "shell.execute_reply": "2022-12-08T18:31:18.719650Z"
    },
    "papermill": {
     "duration": 0.038663,
     "end_time": "2022-12-08T18:31:18.723514",
     "exception": false,
     "start_time": "2022-12-08T18:31:18.684851",
     "status": "completed"
    },
    "tags": []
   },
   "outputs": [
    {
     "data": {
      "text/plain": [
       "2     892534\n",
       "1     140038\n",
       "99     16003\n",
       "Name: PNEUMONIA, dtype: int64"
      ]
     },
     "execution_count": 7,
     "metadata": {},
     "output_type": "execute_result"
    }
   ],
   "source": [
    "df.PNEUMONIA.value_counts()"
   ]
  },
  {
   "cell_type": "markdown",
   "id": "6665e460",
   "metadata": {
    "papermill": {
     "duration": 0.015282,
     "end_time": "2022-12-08T18:31:18.754593",
     "exception": false,
     "start_time": "2022-12-08T18:31:18.739311",
     "status": "completed"
    },
    "tags": []
   },
   "source": [
    "### INFERENCE:\n",
    "* 1) We have some features that we expect them to have just 2 unique values but we see that these features have 3 or 4 unique values. For example the feature \"PNEUMONIA\" has 3 unique values (1,2,99) 99 represents NaN values. Hence we will just take the rows that includes 1 and 2 values.\n",
    "#### \n",
    "* 2) In \"DATE_DIED\" column, we have 971633 \"9999-99-99\" values which represent alive patients so i will take this feature as a \"DEATH\" that includes wether the patient died or not."
   ]
  },
  {
   "cell_type": "markdown",
   "id": "d4610c40",
   "metadata": {
    "papermill": {
     "duration": 0.015808,
     "end_time": "2022-12-08T18:31:18.786153",
     "exception": false,
     "start_time": "2022-12-08T18:31:18.770345",
     "status": "completed"
    },
    "tags": []
   },
   "source": [
    "# Data Preprocessing"
   ]
  },
  {
   "cell_type": "markdown",
   "id": "5f68fd00",
   "metadata": {
    "papermill": {
     "duration": 0.01527,
     "end_time": "2022-12-08T18:31:18.817526",
     "exception": false,
     "start_time": "2022-12-08T18:31:18.802256",
     "status": "completed"
    },
    "tags": []
   },
   "source": [
    "### Getting rid of the missing values of features except \"INTUBED\", \"PREGNANT\", \"ICU\""
   ]
  },
  {
   "cell_type": "code",
   "execution_count": 8,
   "id": "803964d5",
   "metadata": {
    "execution": {
     "iopub.execute_input": "2022-12-08T18:31:18.851018Z",
     "iopub.status.busy": "2022-12-08T18:31:18.850469Z",
     "iopub.status.idle": "2022-12-08T18:31:20.333061Z",
     "shell.execute_reply": "2022-12-08T18:31:20.332029Z"
    },
    "papermill": {
     "duration": 1.502642,
     "end_time": "2022-12-08T18:31:20.335787",
     "exception": false,
     "start_time": "2022-12-08T18:31:18.833145",
     "status": "completed"
    },
    "tags": []
   },
   "outputs": [],
   "source": [
    "df = df[(df.PNEUMONIA == 1) | (df.PNEUMONIA == 2)]\n",
    "df = df[(df.DIABETES == 1) | (df.DIABETES == 2)]\n",
    "df = df[(df.COPD == 1) | (df.COPD == 2)]\n",
    "df = df[(df.ASTHMA == 1) | (df.ASTHMA == 2)]\n",
    "df = df[(df.INMSUPR == 1) | (df.INMSUPR == 2)]\n",
    "df = df[(df.HIPERTENSION == 1) | (df.HIPERTENSION == 2)]\n",
    "df = df[(df.OTHER_DISEASE == 1) | (df.OTHER_DISEASE == 2)]\n",
    "df = df[(df.CARDIOVASCULAR == 1) | (df.CARDIOVASCULAR == 2)]\n",
    "df = df[(df.OBESITY == 1) | (df.OBESITY == 2)]\n",
    "df = df[(df.RENAL_CHRONIC == 1) | (df.RENAL_CHRONIC == 2)]\n",
    "df = df[(df.TOBACCO == 1) | (df.TOBACCO == 2)]"
   ]
  },
  {
   "cell_type": "markdown",
   "id": "30b0d68b",
   "metadata": {
    "papermill": {
     "duration": 0.015728,
     "end_time": "2022-12-08T18:31:20.367750",
     "exception": false,
     "start_time": "2022-12-08T18:31:20.352022",
     "status": "completed"
    },
    "tags": []
   },
   "source": [
    "### Preaparing \"DATE_DIED\" column"
   ]
  },
  {
   "cell_type": "code",
   "execution_count": 9,
   "id": "03d80e54",
   "metadata": {
    "execution": {
     "iopub.execute_input": "2022-12-08T18:31:20.403275Z",
     "iopub.status.busy": "2022-12-08T18:31:20.402853Z",
     "iopub.status.idle": "2022-12-08T18:31:20.807715Z",
     "shell.execute_reply": "2022-12-08T18:31:20.806557Z"
    },
    "papermill": {
     "duration": 0.425758,
     "end_time": "2022-12-08T18:31:20.810600",
     "exception": false,
     "start_time": "2022-12-08T18:31:20.384842",
     "status": "completed"
    },
    "tags": []
   },
   "outputs": [],
   "source": [
    "# If we have \"9999-99-99\" values that means this patient is alive.\n",
    "\n",
    "df[\"DEATH\"] = [2 if each==\"9999-99-99\" else 1 for each in df.DATE_DIED]"
   ]
  },
  {
   "cell_type": "markdown",
   "id": "e521723f",
   "metadata": {
    "papermill": {
     "duration": 0.015444,
     "end_time": "2022-12-08T18:31:20.841853",
     "exception": false,
     "start_time": "2022-12-08T18:31:20.826409",
     "status": "completed"
    },
    "tags": []
   },
   "source": [
    "### Pregnant-Sex Bar Plot"
   ]
  },
  {
   "cell_type": "code",
   "execution_count": 10,
   "id": "df72e6fe",
   "metadata": {
    "execution": {
     "iopub.execute_input": "2022-12-08T18:31:20.875202Z",
     "iopub.status.busy": "2022-12-08T18:31:20.874388Z",
     "iopub.status.idle": "2022-12-08T18:31:21.313775Z",
     "shell.execute_reply": "2022-12-08T18:31:21.312527Z"
    },
    "papermill": {
     "duration": 0.459161,
     "end_time": "2022-12-08T18:31:21.316588",
     "exception": false,
     "start_time": "2022-12-08T18:31:20.857427",
     "status": "completed"
    },
    "tags": []
   },
   "outputs": [
    {
     "data": {
      "image/png": "[encoded data removed]",
      "text/plain": [
       "<Figure size 432x288 with 1 Axes>"
      ]
     },
     "metadata": {
      "needs_background": "light"
     },
     "output_type": "display_data"
    }
   ],
   "source": [
    "plt.figure()\n",
    "ax = sns.countplot(df.SEX, hue = df.PREGNANT)\n",
    "for bars in ax.containers:\n",
    "    ax.bar_label(bars)\n",
    "plt.title(\"PREGNANCIES - SEX\",color=\"red\");"
   ]
  },
  {
   "cell_type": "markdown",
   "id": "d3b13b83",
   "metadata": {
    "papermill": {
     "duration": 0.015723,
     "end_time": "2022-12-08T18:31:21.348670",
     "exception": false,
     "start_time": "2022-12-08T18:31:21.332947",
     "status": "completed"
    },
    "tags": []
   },
   "source": [
    "* We see that all \"97\" values are for males and males can not be pregnant so we will convert 97 to 2."
   ]
  },
  {
   "cell_type": "code",
   "execution_count": 11,
   "id": "c85e932b",
   "metadata": {
    "execution": {
     "iopub.execute_input": "2022-12-08T18:31:21.382719Z",
     "iopub.status.busy": "2022-12-08T18:31:21.382258Z",
     "iopub.status.idle": "2022-12-08T18:31:21.679846Z",
     "shell.execute_reply": "2022-12-08T18:31:21.678485Z"
    },
    "papermill": {
     "duration": 0.318473,
     "end_time": "2022-12-08T18:31:21.683041",
     "exception": false,
     "start_time": "2022-12-08T18:31:21.364568",
     "status": "completed"
    },
    "tags": []
   },
   "outputs": [],
   "source": [
    "# Converting process according to inference above\n",
    "df.PREGNANT = df.PREGNANT.replace(97,2)\n",
    "\n",
    "# Getting rid of the missing values\n",
    "df = df[(df.PREGNANT == 1) | (df.PREGNANT == 2)]"
   ]
  },
  {
   "cell_type": "markdown",
   "id": "1d61b565",
   "metadata": {
    "papermill": {
     "duration": 0.015683,
     "end_time": "2022-12-08T18:31:21.714666",
     "exception": false,
     "start_time": "2022-12-08T18:31:21.698983",
     "status": "completed"
    },
    "tags": []
   },
   "source": [
    "### Missing value analysis of \"INTUBED\" feature"
   ]
  },
  {
   "cell_type": "code",
   "execution_count": 12,
   "id": "fcb5c324",
   "metadata": {
    "execution": {
     "iopub.execute_input": "2022-12-08T18:31:21.748402Z",
     "iopub.status.busy": "2022-12-08T18:31:21.747971Z",
     "iopub.status.idle": "2022-12-08T18:31:22.024391Z",
     "shell.execute_reply": "2022-12-08T18:31:22.023077Z"
    },
    "papermill": {
     "duration": 0.296711,
     "end_time": "2022-12-08T18:31:22.027184",
     "exception": false,
     "start_time": "2022-12-08T18:31:21.730473",
     "status": "completed"
    },
    "tags": []
   },
   "outputs": [
    {
     "data": {
      "image/png": "[encoded data removed]",
      "text/plain": [
       "<Figure size 432x288 with 1 Axes>"
      ]
     },
     "metadata": {
      "needs_background": "light"
     },
     "output_type": "display_data"
    }
   ],
   "source": [
    "ax = sns.countplot(df.INTUBED)\n",
    "plt.bar_label(ax.containers[0])\n",
    "plt.title(\"Count of Intubed\",color=\"red\");"
   ]
  },
  {
   "cell_type": "markdown",
   "id": "98128a02",
   "metadata": {
    "papermill": {
     "duration": 0.016104,
     "end_time": "2022-12-08T18:31:22.060479",
     "exception": false,
     "start_time": "2022-12-08T18:31:22.044375",
     "status": "completed"
    },
    "tags": []
   },
   "source": [
    "### Missing value analysis of \"ICU\" feature"
   ]
  },
  {
   "cell_type": "code",
   "execution_count": 13,
   "id": "6f1cc1bb",
   "metadata": {
    "execution": {
     "iopub.execute_input": "2022-12-08T18:31:22.096449Z",
     "iopub.status.busy": "2022-12-08T18:31:22.096008Z",
     "iopub.status.idle": "2022-12-08T18:31:22.357082Z",
     "shell.execute_reply": "2022-12-08T18:31:22.356153Z"
    },
    "papermill": {
     "duration": 0.28155,
     "end_time": "2022-12-08T18:31:22.359525",
     "exception": false,
     "start_time": "2022-12-08T18:31:22.077975",
     "status": "completed"
    },
    "tags": []
   },
   "outputs": [
    {
     "data": {
      "image/png": "[encoded data removed]",
      "text/plain": [
       "<Figure size 432x288 with 1 Axes>"
      ]
     },
     "metadata": {
      "needs_background": "light"
     },
     "output_type": "display_data"
    }
   ],
   "source": [
    "ax = sns.countplot(df.ICU)\n",
    "plt.bar_label(ax.containers[0])\n",
    "plt.title(\"Count of ICU\",color=\"red\");"
   ]
  },
  {
   "cell_type": "markdown",
   "id": "d14b1cf9",
   "metadata": {
    "papermill": {
     "duration": 0.017013,
     "end_time": "2022-12-08T18:31:22.393276",
     "exception": false,
     "start_time": "2022-12-08T18:31:22.376263",
     "status": "completed"
    },
    "tags": []
   },
   "source": [
    "### Droping the columns\n",
    "* In \"INTUBED\" and \"ICU\" features there are too many missing values so i will drop them. Also we don't need \"DATE_DIED\" column anymore because we used this feature as a \"DEATH\" feature."
   ]
  },
  {
   "cell_type": "code",
   "execution_count": 14,
   "id": "90cd52ae",
   "metadata": {
    "execution": {
     "iopub.execute_input": "2022-12-08T18:31:22.429324Z",
     "iopub.status.busy": "2022-12-08T18:31:22.428313Z",
     "iopub.status.idle": "2022-12-08T18:31:22.494698Z",
     "shell.execute_reply": "2022-12-08T18:31:22.493188Z"
    },
    "papermill": {
     "duration": 0.087538,
     "end_time": "2022-12-08T18:31:22.497694",
     "exception": false,
     "start_time": "2022-12-08T18:31:22.410156",
     "status": "completed"
    },
    "tags": []
   },
   "outputs": [],
   "source": [
    "df.drop(columns=[\"INTUBED\",\"ICU\",\"DATE_DIED\"], inplace=True)"
   ]
  },
  {
   "cell_type": "markdown",
   "id": "684556da",
   "metadata": {
    "papermill": {
     "duration": 0.016734,
     "end_time": "2022-12-08T18:31:22.531315",
     "exception": false,
     "start_time": "2022-12-08T18:31:22.514581",
     "status": "completed"
    },
    "tags": []
   },
   "source": [
    "### Number of unique values by columns "
   ]
  },
  {
   "cell_type": "code",
   "execution_count": 15,
   "id": "098ec576",
   "metadata": {
    "execution": {
     "iopub.execute_input": "2022-12-08T18:31:22.568300Z",
     "iopub.status.busy": "2022-12-08T18:31:22.567130Z",
     "iopub.status.idle": "2022-12-08T18:31:22.691042Z",
     "shell.execute_reply": "2022-12-08T18:31:22.689595Z"
    },
    "papermill": {
     "duration": 0.147381,
     "end_time": "2022-12-08T18:31:22.695464",
     "exception": false,
     "start_time": "2022-12-08T18:31:22.548083",
     "status": "completed"
    },
    "tags": []
   },
   "outputs": [
    {
     "name": "stdout",
     "output_type": "stream",
     "text": [
      "USMER =>\t 2\n",
      "MEDICAL_UNIT =>\t 13\n",
      "SEX =>\t 2\n",
      "PATIENT_TYPE =>\t 2\n",
      "PNEUMONIA =>\t 2\n",
      "AGE =>\t 121\n",
      "PREGNANT =>\t 2\n",
      "DIABETES =>\t 2\n",
      "COPD =>\t 2\n",
      "ASTHMA =>\t 2\n",
      "INMSUPR =>\t 2\n",
      "HIPERTENSION =>\t 2\n",
      "OTHER_DISEASE =>\t 2\n",
      "CARDIOVASCULAR =>\t 2\n",
      "OBESITY =>\t 2\n",
      "RENAL_CHRONIC =>\t 2\n",
      "TOBACCO =>\t 2\n",
      "CLASIFFICATION_FINAL =>\t 7\n",
      "DEATH =>\t 2\n"
     ]
    }
   ],
   "source": [
    "for i in df.columns:\n",
    "    print(i,\"=>\\t\",len(df[i].unique()))"
   ]
  },
  {
   "cell_type": "markdown",
   "id": "abb2812f",
   "metadata": {
    "papermill": {
     "duration": 0.016471,
     "end_time": "2022-12-08T18:31:22.729514",
     "exception": false,
     "start_time": "2022-12-08T18:31:22.713043",
     "status": "completed"
    },
    "tags": []
   },
   "source": [
    "* As we see, we have just one numeric feature which is called \"AGE\" the rest of them are categorical."
   ]
  },
  {
   "cell_type": "markdown",
   "id": "3794f69a",
   "metadata": {
    "papermill": {
     "duration": 0.017201,
     "end_time": "2022-12-08T18:31:22.763439",
     "exception": false,
     "start_time": "2022-12-08T18:31:22.746238",
     "status": "completed"
    },
    "tags": []
   },
   "source": [
    "# Data Visualization"
   ]
  },
  {
   "cell_type": "code",
   "execution_count": 16,
   "id": "58620d49",
   "metadata": {
    "execution": {
     "iopub.execute_input": "2022-12-08T18:31:22.801749Z",
     "iopub.status.busy": "2022-12-08T18:31:22.800575Z",
     "iopub.status.idle": "2022-12-08T18:31:23.016830Z",
     "shell.execute_reply": "2022-12-08T18:31:23.015955Z"
    },
    "papermill": {
     "duration": 0.240377,
     "end_time": "2022-12-08T18:31:23.021525",
     "exception": false,
     "start_time": "2022-12-08T18:31:22.781148",
     "status": "completed"
    },
    "tags": []
   },
   "outputs": [
    {
     "data": {
      "image/png": "[encoded data removed]",
      "text/plain": [
       "<Figure size 432x288 with 1 Axes>"
      ]
     },
     "metadata": {
      "needs_background": "light"
     },
     "output_type": "display_data"
    }
   ],
   "source": [
    "ax = sns.countplot(df.DEATH,palette=sns.cubehelix_palette(2))\n",
    "plt.bar_label(ax.containers[0])\n",
    "plt.title(\"Death Distribution\", fontsize=18,color=\"red\");"
   ]
  },
  {
   "cell_type": "markdown",
   "id": "67448831",
   "metadata": {
    "papermill": {
     "duration": 0.017465,
     "end_time": "2022-12-08T18:31:23.068795",
     "exception": false,
     "start_time": "2022-12-08T18:31:23.051330",
     "status": "completed"
    },
    "tags": []
   },
   "source": [
    "* The values are distributed unbalanced in target column. This will probably cause an imbalance problem. Nonetheless i want you to see the problem. Hence i will go ahead for now and if we meet this problem i will try to figure it out."
   ]
  },
  {
   "cell_type": "code",
   "execution_count": 17,
   "id": "6bb03700",
   "metadata": {
    "execution": {
     "iopub.execute_input": "2022-12-08T18:31:23.106229Z",
     "iopub.status.busy": "2022-12-08T18:31:23.105774Z",
     "iopub.status.idle": "2022-12-08T18:31:24.007120Z",
     "shell.execute_reply": "2022-12-08T18:31:24.005583Z"
    },
    "papermill": {
     "duration": 0.923386,
     "end_time": "2022-12-08T18:31:24.010067",
     "exception": false,
     "start_time": "2022-12-08T18:31:23.086681",
     "status": "completed"
    },
    "tags": []
   },
   "outputs": [
    {
     "data": {
      "image/png": "[encoded data removed]",
      "text/plain": [
       "<Figure size 432x288 with 1 Axes>"
      ]
     },
     "metadata": {
      "needs_background": "light"
     },
     "output_type": "display_data"
    }
   ],
   "source": [
    "sns.histplot(x=df.AGE)\n",
    "plt.title(\"Age Distribution\", color=\"red\", fontsize=18);"
   ]
  },
  {
   "cell_type": "markdown",
   "id": "a3a9cc1b",
   "metadata": {
    "papermill": {
     "duration": 0.017451,
     "end_time": "2022-12-08T18:31:24.045994",
     "exception": false,
     "start_time": "2022-12-08T18:31:24.028543",
     "status": "completed"
    },
    "tags": []
   },
   "source": [
    "* Patients are roughly between 20-60 years old."
   ]
  },
  {
   "cell_type": "code",
   "execution_count": 18,
   "id": "44d5b03b",
   "metadata": {
    "execution": {
     "iopub.execute_input": "2022-12-08T18:31:24.083863Z",
     "iopub.status.busy": "2022-12-08T18:31:24.083441Z",
     "iopub.status.idle": "2022-12-08T18:31:24.458382Z",
     "shell.execute_reply": "2022-12-08T18:31:24.457070Z"
    },
    "papermill": {
     "duration": 0.39685,
     "end_time": "2022-12-08T18:31:24.460920",
     "exception": false,
     "start_time": "2022-12-08T18:31:24.064070",
     "status": "completed"
    },
    "tags": []
   },
   "outputs": [
    {
     "data": {
      "image/png": "[encoded data removed]",
      "text/plain": [
       "<Figure size 432x288 with 1 Axes>"
      ]
     },
     "metadata": {
      "needs_background": "light"
     },
     "output_type": "display_data"
    }
   ],
   "source": [
    "sns.boxplot(x=\"DEATH\", y=\"AGE\",data=df,palette=sns.color_palette([\"#2f4f4f\",\"#eedd82\"]))\n",
    "plt.title(\"Age-DEATH\",fontsize=18, color=\"red\");"
   ]
  },
  {
   "cell_type": "markdown",
   "id": "7872dcb7",
   "metadata": {
    "papermill": {
     "duration": 0.017693,
     "end_time": "2022-12-08T18:31:24.496526",
     "exception": false,
     "start_time": "2022-12-08T18:31:24.478833",
     "status": "completed"
    },
    "tags": []
   },
   "source": [
    "* The older patients are more likely to die compare to younger ones."
   ]
  },
  {
   "cell_type": "code",
   "execution_count": 19,
   "id": "fdf02bfe",
   "metadata": {
    "execution": {
     "iopub.execute_input": "2022-12-08T18:31:24.534791Z",
     "iopub.status.busy": "2022-12-08T18:31:24.533486Z",
     "iopub.status.idle": "2022-12-08T18:31:25.084614Z",
     "shell.execute_reply": "2022-12-08T18:31:25.083697Z"
    },
    "papermill": {
     "duration": 0.573123,
     "end_time": "2022-12-08T18:31:25.087126",
     "exception": false,
     "start_time": "2022-12-08T18:31:24.514003",
     "status": "completed"
    },
    "tags": []
   },
   "outputs": [
    {
     "data": {
      "image/png": "[encoded data removed]",
      "text/plain": [
       "<Figure size 432x288 with 1 Axes>"
      ]
     },
     "metadata": {
      "needs_background": "light"
     },
     "output_type": "display_data"
    }
   ],
   "source": [
    "sns.boxplot(x=\"DEATH\", y=\"AGE\",hue=\"SEX\",data=df,palette=sns.color_palette([\"#2f4f4f\",\"#eedd82\"]))\n",
    "plt.title(\"Age-Death-Sex\",fontsize=18, color=\"red\")\n",
    "plt.legend(loc=\"best\");"
   ]
  },
  {
   "cell_type": "markdown",
   "id": "a63eaf3c",
   "metadata": {
    "papermill": {
     "duration": 0.017508,
     "end_time": "2022-12-08T18:31:25.123123",
     "exception": false,
     "start_time": "2022-12-08T18:31:25.105615",
     "status": "completed"
    },
    "tags": []
   },
   "source": [
    "* The older patients are more likely to die compare to younger ones.\n",
    "* There is no serious difference between males and females in terms of average rate of patients."
   ]
  },
  {
   "cell_type": "code",
   "execution_count": 20,
   "id": "4b8b0b49",
   "metadata": {
    "execution": {
     "iopub.execute_input": "2022-12-08T18:31:25.161307Z",
     "iopub.status.busy": "2022-12-08T18:31:25.160518Z",
     "iopub.status.idle": "2022-12-08T18:31:25.548761Z",
     "shell.execute_reply": "2022-12-08T18:31:25.547722Z"
    },
    "papermill": {
     "duration": 0.410218,
     "end_time": "2022-12-08T18:31:25.551363",
     "exception": false,
     "start_time": "2022-12-08T18:31:25.141145",
     "status": "completed"
    },
    "tags": []
   },
   "outputs": [
    {
     "data": {
      "image/png": "[encoded data removed]",
      "text/plain": [
       "<Figure size 432x288 with 1 Axes>"
      ]
     },
     "metadata": {
      "needs_background": "light"
     },
     "output_type": "display_data"
    }
   ],
   "source": [
    "sns.countplot(df.SEX,hue=df.DEATH, palette=sns.cubehelix_palette(2))\n",
    "plt.title(\"Sex-Death\",fontsize=18, color=\"red\")\n",
    "plt.legend(loc=\"best\");"
   ]
  },
  {
   "cell_type": "markdown",
   "id": "27c0ac26",
   "metadata": {
    "papermill": {
     "duration": 0.017592,
     "end_time": "2022-12-08T18:31:25.587150",
     "exception": false,
     "start_time": "2022-12-08T18:31:25.569558",
     "status": "completed"
    },
    "tags": []
   },
   "source": [
    "* Males are more likely to die of covid compare to females."
   ]
  },
  {
   "cell_type": "code",
   "execution_count": 21,
   "id": "7ad20f23",
   "metadata": {
    "execution": {
     "iopub.execute_input": "2022-12-08T18:31:25.625876Z",
     "iopub.status.busy": "2022-12-08T18:31:25.625420Z",
     "iopub.status.idle": "2022-12-08T18:31:26.051135Z",
     "shell.execute_reply": "2022-12-08T18:31:26.050147Z"
    },
    "papermill": {
     "duration": 0.448019,
     "end_time": "2022-12-08T18:31:26.053569",
     "exception": false,
     "start_time": "2022-12-08T18:31:25.605550",
     "status": "completed"
    },
    "tags": []
   },
   "outputs": [
    {
     "data": {
      "image/png": "[encoded data removed]",
      "text/plain": [
       "<Figure size 432x288 with 1 Axes>"
      ]
     },
     "metadata": {
      "needs_background": "light"
     },
     "output_type": "display_data"
    }
   ],
   "source": [
    "ax=sns.countplot(df.OBESITY,hue=df.DEATH, palette=sns.color_palette([\"#7fffd4\",\"#a52a2a\"]))\n",
    "plt.title(\"Obesity-Death\",fontsize=18, color=\"red\")\n",
    "plt.bar_label(ax.containers[0])\n",
    "plt.bar_label(ax.containers[1])\n",
    "plt.legend(loc=\"best\");"
   ]
  },
  {
   "cell_type": "markdown",
   "id": "33b50615",
   "metadata": {
    "papermill": {
     "duration": 0.018028,
     "end_time": "2022-12-08T18:31:26.090250",
     "exception": false,
     "start_time": "2022-12-08T18:31:26.072222",
     "status": "completed"
    },
    "tags": []
   },
   "source": [
    "* Obese patients are more likely to die from covid compare to non-obese patients."
   ]
  },
  {
   "cell_type": "code",
   "execution_count": 22,
   "id": "0230f16f",
   "metadata": {
    "execution": {
     "iopub.execute_input": "2022-12-08T18:31:26.129747Z",
     "iopub.status.busy": "2022-12-08T18:31:26.128526Z",
     "iopub.status.idle": "2022-12-08T18:31:29.686903Z",
     "shell.execute_reply": "2022-12-08T18:31:29.685610Z"
    },
    "papermill": {
     "duration": 3.582728,
     "end_time": "2022-12-08T18:31:29.691396",
     "exception": false,
     "start_time": "2022-12-08T18:31:26.108668",
     "status": "completed"
    },
    "tags": []
   },
   "outputs": [
    {
     "data": {
      "image/png": "[encoded data removed]",
      "text/plain": [
       "<Figure size 1296x1080 with 2 Axes>"
      ]
     },
     "metadata": {
      "needs_background": "light"
     },
     "output_type": "display_data"
    }
   ],
   "source": [
    "plt.figure(figsize=(18,15))\n",
    "sns.heatmap(df.corr(),annot=True, fmt=\".2f\")\n",
    "plt.title(\"Correlation Between Features\",fontsize=18,color=\"red\");"
   ]
  },
  {
   "cell_type": "markdown",
   "id": "4ead8fa4",
   "metadata": {
    "papermill": {
     "duration": 0.02184,
     "end_time": "2022-12-08T18:31:29.735201",
     "exception": false,
     "start_time": "2022-12-08T18:31:29.713361",
     "status": "completed"
    },
    "tags": []
   },
   "source": [
    "# Future Selection\n",
    "* I will drop the features that have low correlation with \"DEATH\" feature."
   ]
  },
  {
   "cell_type": "code",
   "execution_count": 23,
   "id": "b833296f",
   "metadata": {
    "execution": {
     "iopub.execute_input": "2022-12-08T18:31:29.781455Z",
     "iopub.status.busy": "2022-12-08T18:31:29.780324Z",
     "iopub.status.idle": "2022-12-08T18:31:29.818067Z",
     "shell.execute_reply": "2022-12-08T18:31:29.816865Z"
    },
    "papermill": {
     "duration": 0.064491,
     "end_time": "2022-12-08T18:31:29.821289",
     "exception": false,
     "start_time": "2022-12-08T18:31:29.756798",
     "status": "completed"
    },
    "tags": []
   },
   "outputs": [],
   "source": [
    "unrelevant_columns = [\"SEX\",\"PREGNANT\",\"COPD\",\"ASTHMA\",\"INMSUPR\",\"OTHER_DISEASE\",\"CARDIOVASCULAR\",\n",
    "                      \"OBESITY\",\"TOBACCO\"]\n",
    "\n",
    "df.drop(columns=unrelevant_columns,inplace=True)"
   ]
  },
  {
   "cell_type": "code",
   "execution_count": 24,
   "id": "34280399",
   "metadata": {
    "execution": {
     "iopub.execute_input": "2022-12-08T18:31:29.865988Z",
     "iopub.status.busy": "2022-12-08T18:31:29.865530Z",
     "iopub.status.idle": "2022-12-08T18:31:29.878687Z",
     "shell.execute_reply": "2022-12-08T18:31:29.877818Z"
    },
    "papermill": {
     "duration": 0.038257,
     "end_time": "2022-12-08T18:31:29.881007",
     "exception": false,
     "start_time": "2022-12-08T18:31:29.842750",
     "status": "completed"
    },
    "tags": []
   },
   "outputs": [
    {
     "data": {
      "text/html": [
       "<div>\n",
       "<style scoped>\n",
       "    .dataframe tbody tr th:only-of-type {\n",
       "        vertical-align: middle;\n",
       "    }\n",
       "\n",
       "    .dataframe tbody tr th {\n",
       "        vertical-align: top;\n",
       "    }\n",
       "\n",
       "    .dataframe thead th {\n",
       "        text-align: right;\n",
       "    }\n",
       "</style>\n",
       "<table border=\"1\" class=\"dataframe\">\n",
       "  <thead>\n",
       "    <tr style=\"text-align: right;\">\n",
       "      <th></th>\n",
       "      <th>USMER</th>\n",
       "      <th>MEDICAL_UNIT</th>\n",
       "      <th>PATIENT_TYPE</th>\n",
       "      <th>PNEUMONIA</th>\n",
       "      <th>AGE</th>\n",
       "      <th>DIABETES</th>\n",
       "      <th>HIPERTENSION</th>\n",
       "      <th>RENAL_CHRONIC</th>\n",
       "      <th>CLASIFFICATION_FINAL</th>\n",
       "      <th>DEATH</th>\n",
       "    </tr>\n",
       "  </thead>\n",
       "  <tbody>\n",
       "    <tr>\n",
       "      <th>0</th>\n",
       "      <td>2</td>\n",
       "      <td>1</td>\n",
       "      <td>1</td>\n",
       "      <td>1</td>\n",
       "      <td>65</td>\n",
       "      <td>2</td>\n",
       "      <td>1</td>\n",
       "      <td>2</td>\n",
       "      <td>3</td>\n",
       "      <td>1</td>\n",
       "    </tr>\n",
       "    <tr>\n",
       "      <th>1</th>\n",
       "      <td>2</td>\n",
       "      <td>1</td>\n",
       "      <td>1</td>\n",
       "      <td>1</td>\n",
       "      <td>72</td>\n",
       "      <td>2</td>\n",
       "      <td>1</td>\n",
       "      <td>1</td>\n",
       "      <td>5</td>\n",
       "      <td>1</td>\n",
       "    </tr>\n",
       "    <tr>\n",
       "      <th>2</th>\n",
       "      <td>2</td>\n",
       "      <td>1</td>\n",
       "      <td>2</td>\n",
       "      <td>2</td>\n",
       "      <td>55</td>\n",
       "      <td>1</td>\n",
       "      <td>2</td>\n",
       "      <td>2</td>\n",
       "      <td>3</td>\n",
       "      <td>1</td>\n",
       "    </tr>\n",
       "    <tr>\n",
       "      <th>3</th>\n",
       "      <td>2</td>\n",
       "      <td>1</td>\n",
       "      <td>1</td>\n",
       "      <td>2</td>\n",
       "      <td>53</td>\n",
       "      <td>2</td>\n",
       "      <td>2</td>\n",
       "      <td>2</td>\n",
       "      <td>7</td>\n",
       "      <td>1</td>\n",
       "    </tr>\n",
       "    <tr>\n",
       "      <th>4</th>\n",
       "      <td>2</td>\n",
       "      <td>1</td>\n",
       "      <td>1</td>\n",
       "      <td>2</td>\n",
       "      <td>68</td>\n",
       "      <td>1</td>\n",
       "      <td>1</td>\n",
       "      <td>2</td>\n",
       "      <td>3</td>\n",
       "      <td>1</td>\n",
       "    </tr>\n",
       "  </tbody>\n",
       "</table>\n",
       "</div>"
      ],
      "text/plain": [
       "   USMER  MEDICAL_UNIT  PATIENT_TYPE  PNEUMONIA  AGE  DIABETES  HIPERTENSION  \\\n",
       "0      2             1             1          1   65         2             1   \n",
       "1      2             1             1          1   72         2             1   \n",
       "2      2             1             2          2   55         1             2   \n",
       "3      2             1             1          2   53         2             2   \n",
       "4      2             1             1          2   68         1             1   \n",
       "\n",
       "   RENAL_CHRONIC  CLASIFFICATION_FINAL  DEATH  \n",
       "0              2                     3      1  \n",
       "1              1                     5      1  \n",
       "2              2                     3      1  \n",
       "3              2                     7      1  \n",
       "4              2                     3      1  "
      ]
     },
     "execution_count": 24,
     "metadata": {},
     "output_type": "execute_result"
    }
   ],
   "source": [
    "df.head()"
   ]
  },
  {
   "cell_type": "markdown",
   "id": "5c07a798",
   "metadata": {
    "papermill": {
     "duration": 0.021291,
     "end_time": "2022-12-08T18:31:29.923972",
     "exception": false,
     "start_time": "2022-12-08T18:31:29.902681",
     "status": "completed"
    },
    "tags": []
   },
   "source": [
    "### Preparing the categorical features which are not binary"
   ]
  },
  {
   "cell_type": "code",
   "execution_count": 25,
   "id": "93f034af",
   "metadata": {
    "execution": {
     "iopub.execute_input": "2022-12-08T18:31:29.970442Z",
     "iopub.status.busy": "2022-12-08T18:31:29.970000Z",
     "iopub.status.idle": "2022-12-08T18:31:30.170797Z",
     "shell.execute_reply": "2022-12-08T18:31:30.169774Z"
    },
    "papermill": {
     "duration": 0.227,
     "end_time": "2022-12-08T18:31:30.173435",
     "exception": false,
     "start_time": "2022-12-08T18:31:29.946435",
     "status": "completed"
    },
    "tags": []
   },
   "outputs": [],
   "source": [
    "df = pd.get_dummies(df,columns=[\"MEDICAL_UNIT\",\"CLASIFFICATION_FINAL\"],drop_first=True)"
   ]
  },
  {
   "cell_type": "markdown",
   "id": "16b77429",
   "metadata": {
    "papermill": {
     "duration": 0.022548,
     "end_time": "2022-12-08T18:31:30.218254",
     "exception": false,
     "start_time": "2022-12-08T18:31:30.195706",
     "status": "completed"
    },
    "tags": []
   },
   "source": [
    "### Scaling the numeric feature"
   ]
  },
  {
   "cell_type": "code",
   "execution_count": 26,
   "id": "ad17a343",
   "metadata": {
    "execution": {
     "iopub.execute_input": "2022-12-08T18:31:30.263358Z",
     "iopub.status.busy": "2022-12-08T18:31:30.262454Z",
     "iopub.status.idle": "2022-12-08T18:31:30.503512Z",
     "shell.execute_reply": "2022-12-08T18:31:30.502126Z"
    },
    "papermill": {
     "duration": 0.266735,
     "end_time": "2022-12-08T18:31:30.506336",
     "exception": false,
     "start_time": "2022-12-08T18:31:30.239601",
     "status": "completed"
    },
    "tags": []
   },
   "outputs": [],
   "source": [
    "from sklearn.preprocessing import RobustScaler\n",
    "scaler = RobustScaler()\n",
    "df.AGE = scaler.fit_transform(df.AGE.values.reshape(-1,1))"
   ]
  },
  {
   "cell_type": "markdown",
   "id": "7406894a",
   "metadata": {
    "papermill": {
     "duration": 0.021716,
     "end_time": "2022-12-08T18:31:30.549561",
     "exception": false,
     "start_time": "2022-12-08T18:31:30.527845",
     "status": "completed"
    },
    "tags": []
   },
   "source": [
    "### Determining the \"x\" and \"y\""
   ]
  },
  {
   "cell_type": "code",
   "execution_count": 27,
   "id": "9f9ed4b4",
   "metadata": {
    "execution": {
     "iopub.execute_input": "2022-12-08T18:31:30.594938Z",
     "iopub.status.busy": "2022-12-08T18:31:30.594465Z",
     "iopub.status.idle": "2022-12-08T18:31:30.648085Z",
     "shell.execute_reply": "2022-12-08T18:31:30.646692Z"
    },
    "papermill": {
     "duration": 0.079752,
     "end_time": "2022-12-08T18:31:30.650790",
     "exception": false,
     "start_time": "2022-12-08T18:31:30.571038",
     "status": "completed"
    },
    "tags": []
   },
   "outputs": [],
   "source": [
    "x = df.drop(columns=\"DEATH\")\n",
    "y = df[\"DEATH\"]"
   ]
  },
  {
   "cell_type": "markdown",
   "id": "8d3700e4",
   "metadata": {
    "papermill": {
     "duration": 0.021208,
     "end_time": "2022-12-08T18:31:30.693529",
     "exception": false,
     "start_time": "2022-12-08T18:31:30.672321",
     "status": "completed"
    },
    "tags": []
   },
   "source": [
    "# Train Test Split"
   ]
  },
  {
   "cell_type": "code",
   "execution_count": 28,
   "id": "54b7cdb6",
   "metadata": {
    "execution": {
     "iopub.execute_input": "2022-12-08T18:31:30.738228Z",
     "iopub.status.busy": "2022-12-08T18:31:30.737779Z",
     "iopub.status.idle": "2022-12-08T18:31:31.197383Z",
     "shell.execute_reply": "2022-12-08T18:31:31.195833Z"
    },
    "papermill": {
     "duration": 0.485021,
     "end_time": "2022-12-08T18:31:31.200048",
     "exception": false,
     "start_time": "2022-12-08T18:31:30.715027",
     "status": "completed"
    },
    "tags": []
   },
   "outputs": [
    {
     "name": "stdout",
     "output_type": "stream",
     "text": [
      "Train_x : (817581, 25)\n",
      "Test_x : (204396, 25)\n",
      "Train_y : (817581,)\n",
      "Test_y : (204396,)\n"
     ]
    }
   ],
   "source": [
    "from sklearn.model_selection import train_test_split\n",
    "train_x, test_x, train_y, test_y = train_test_split(x,y, test_size=0.2, random_state=42)\n",
    "print(\"Train_x :\",train_x.shape)\n",
    "print(\"Test_x :\",test_x.shape)\n",
    "print(\"Train_y :\",train_y.shape)\n",
    "print(\"Test_y :\",test_y.shape)"
   ]
  },
  {
   "cell_type": "markdown",
   "id": "cf47b575",
   "metadata": {
    "papermill": {
     "duration": 0.021095,
     "end_time": "2022-12-08T18:31:31.243583",
     "exception": false,
     "start_time": "2022-12-08T18:31:31.222488",
     "status": "completed"
    },
    "tags": []
   },
   "source": [
    "# Logistic Regression"
   ]
  },
  {
   "cell_type": "code",
   "execution_count": 29,
   "id": "21f742fa",
   "metadata": {
    "execution": {
     "iopub.execute_input": "2022-12-08T18:31:31.289317Z",
     "iopub.status.busy": "2022-12-08T18:31:31.288348Z",
     "iopub.status.idle": "2022-12-08T18:31:47.222014Z",
     "shell.execute_reply": "2022-12-08T18:31:47.220704Z"
    },
    "papermill": {
     "duration": 15.963847,
     "end_time": "2022-12-08T18:31:47.229002",
     "exception": false,
     "start_time": "2022-12-08T18:31:31.265155",
     "status": "completed"
    },
    "tags": []
   },
   "outputs": [
    {
     "name": "stdout",
     "output_type": "stream",
     "text": [
      "Logistic Regression Accuracy : 0.9394117301708448\n"
     ]
    }
   ],
   "source": [
    "from sklearn.linear_model import LogisticRegression\n",
    "\n",
    "logreg = LogisticRegression()\n",
    "logreg.fit(train_x,train_y)\n",
    "print(\"Logistic Regression Accuracy :\",logreg.score(test_x, test_y))"
   ]
  },
  {
   "cell_type": "code",
   "execution_count": 30,
   "id": "7f74d7c4",
   "metadata": {
    "execution": {
     "iopub.execute_input": "2022-12-08T18:31:47.319658Z",
     "iopub.status.busy": "2022-12-08T18:31:47.318435Z",
     "iopub.status.idle": "2022-12-08T18:31:47.489226Z",
     "shell.execute_reply": "2022-12-08T18:31:47.487572Z"
    },
    "papermill": {
     "duration": 0.20821,
     "end_time": "2022-12-08T18:31:47.492718",
     "exception": false,
     "start_time": "2022-12-08T18:31:47.284508",
     "status": "completed"
    },
    "tags": []
   },
   "outputs": [
    {
     "name": "stdout",
     "output_type": "stream",
     "text": [
      "Logistic Regression F1 Score : [0.51880634 0.96767052]\n"
     ]
    }
   ],
   "source": [
    "from sklearn.metrics import f1_score\n",
    "\n",
    "print(\"Logistic Regression F1 Score :\",f1_score(test_y,logreg.predict(test_x),average=None))"
   ]
  },
  {
   "cell_type": "code",
   "execution_count": 31,
   "id": "53dbb335",
   "metadata": {
    "execution": {
     "iopub.execute_input": "2022-12-08T18:31:47.538294Z",
     "iopub.status.busy": "2022-12-08T18:31:47.537915Z",
     "iopub.status.idle": "2022-12-08T18:31:48.066286Z",
     "shell.execute_reply": "2022-12-08T18:31:48.065079Z"
    },
    "papermill": {
     "duration": 0.554186,
     "end_time": "2022-12-08T18:31:48.069045",
     "exception": false,
     "start_time": "2022-12-08T18:31:47.514859",
     "status": "completed"
    },
    "tags": []
   },
   "outputs": [
    {
     "data": {
      "image/png": "[encoded data removed]",
      "text/plain": [
       "<Figure size 432x288 with 2 Axes>"
      ]
     },
     "metadata": {
      "needs_background": "light"
     },
     "output_type": "display_data"
    }
   ],
   "source": [
    "from sklearn.metrics import confusion_matrix\n",
    "\n",
    "sns.heatmap(confusion_matrix(test_y, logreg.predict(test_x)), annot=True, fmt=\".0f\")\n",
    "plt.title(\"Logistic Regression Confusion Matrix\",fontsize=18, color=\"red\");"
   ]
  },
  {
   "cell_type": "markdown",
   "id": "fa7e1288",
   "metadata": {
    "papermill": {
     "duration": 0.022724,
     "end_time": "2022-12-08T18:31:48.113811",
     "exception": false,
     "start_time": "2022-12-08T18:31:48.091087",
     "status": "completed"
    },
    "tags": []
   },
   "source": [
    "## Inference:\n",
    "* We got well accuracy with Logistic Regression.\n",
    "* But it can mislead us so we have to check the other metrics.\n",
    "* When we look at the F1 Score it says that we predicted the patients who survived well but we can't say the same thing for dead patients.\n",
    "* Also we see the same thing when we check the confusion matrix. This problem is based on imbalance dataset as i mentioned about it."
   ]
  },
  {
   "cell_type": "code",
   "execution_count": 32,
   "id": "b7ab1b9f",
   "metadata": {
    "execution": {
     "iopub.execute_input": "2022-12-08T18:31:48.164293Z",
     "iopub.status.busy": "2022-12-08T18:31:48.163890Z",
     "iopub.status.idle": "2022-12-08T18:31:48.447595Z",
     "shell.execute_reply": "2022-12-08T18:31:48.446189Z"
    },
    "papermill": {
     "duration": 0.311691,
     "end_time": "2022-12-08T18:31:48.450979",
     "exception": false,
     "start_time": "2022-12-08T18:31:48.139288",
     "status": "completed"
    },
    "tags": []
   },
   "outputs": [
    {
     "data": {
      "image/png": "[encoded data removed]",
      "text/plain": [
       "<Figure size 432x288 with 1 Axes>"
      ]
     },
     "metadata": {
      "needs_background": "light"
     },
     "output_type": "display_data"
    }
   ],
   "source": [
    "ax = sns.countplot(df.DEATH, palette=sns.cubehelix_palette(2))\n",
    "plt.bar_label(ax.containers[0])\n",
    "plt.title(\"Death Distribution\", fontsize=18,color=\"red\");"
   ]
  },
  {
   "cell_type": "markdown",
   "id": "3e9a27a6",
   "metadata": {
    "papermill": {
     "duration": 0.02291,
     "end_time": "2022-12-08T18:31:48.496364",
     "exception": false,
     "start_time": "2022-12-08T18:31:48.473454",
     "status": "completed"
    },
    "tags": []
   },
   "source": [
    "# How To Solve Imbalance Dataset Problem\n",
    "* Loading More Datas\n",
    "* Changing The Perfomance Metrics\n",
    "* Resampling (Undersampling or Oversampling)\n",
    "* Changing The Algorithm\n",
    "* Penalized Models etc."
   ]
  },
  {
   "cell_type": "markdown",
   "id": "268d4761",
   "metadata": {
    "papermill": {
     "duration": 0.022435,
     "end_time": "2022-12-08T18:31:48.542032",
     "exception": false,
     "start_time": "2022-12-08T18:31:48.519597",
     "status": "completed"
    },
    "tags": []
   },
   "source": [
    "##### I am going to use Undersampling for this case because we already have too many patients.\n",
    "* Undersampling : Undersampling is a technique to balance uneven datasets by keeping all of the data in the minority class and decreasing the size of the majority class. \n",
    "* If we use Oversampling our row number will increase so this is too many rows for computer.\n",
    "* If i can't solve the problem with Undersampling i will use the others."
   ]
  },
  {
   "cell_type": "code",
   "execution_count": 33,
   "id": "f30fb3d9",
   "metadata": {
    "execution": {
     "iopub.execute_input": "2022-12-08T18:31:48.588826Z",
     "iopub.status.busy": "2022-12-08T18:31:48.588372Z",
     "iopub.status.idle": "2022-12-08T18:31:49.318895Z",
     "shell.execute_reply": "2022-12-08T18:31:49.317917Z"
    },
    "papermill": {
     "duration": 0.756967,
     "end_time": "2022-12-08T18:31:49.321648",
     "exception": false,
     "start_time": "2022-12-08T18:31:48.564681",
     "status": "completed"
    },
    "tags": []
   },
   "outputs": [],
   "source": [
    "from imblearn.under_sampling import RandomUnderSampler\n",
    "\n",
    "rus = RandomUnderSampler(random_state=0)\n",
    "x_resampled,y_resampled = rus.fit_resample(x,y)"
   ]
  },
  {
   "cell_type": "code",
   "execution_count": 34,
   "id": "ab42e272",
   "metadata": {
    "execution": {
     "iopub.execute_input": "2022-12-08T18:31:49.368536Z",
     "iopub.status.busy": "2022-12-08T18:31:49.368095Z",
     "iopub.status.idle": "2022-12-08T18:31:49.593184Z",
     "shell.execute_reply": "2022-12-08T18:31:49.591957Z"
    },
    "papermill": {
     "duration": 0.251609,
     "end_time": "2022-12-08T18:31:49.595964",
     "exception": false,
     "start_time": "2022-12-08T18:31:49.344355",
     "status": "completed"
    },
    "tags": []
   },
   "outputs": [
    {
     "data": {
      "image/png": "[encoded data removed]",
      "text/plain": [
       "<Figure size 432x288 with 1 Axes>"
      ]
     },
     "metadata": {
      "needs_background": "light"
     },
     "output_type": "display_data"
    }
   ],
   "source": [
    "ax = sns.countplot(y_resampled, palette=sns.cubehelix_palette(2))\n",
    "plt.bar_label(ax.containers[0])\n",
    "plt.title(\"Death Distribution\", fontsize=18,color=\"red\");"
   ]
  },
  {
   "cell_type": "markdown",
   "id": "82f3be6c",
   "metadata": {
    "papermill": {
     "duration": 0.022541,
     "end_time": "2022-12-08T18:31:49.643346",
     "exception": false,
     "start_time": "2022-12-08T18:31:49.620805",
     "status": "completed"
    },
    "tags": []
   },
   "source": [
    "# Train Test Split After Undersampling"
   ]
  },
  {
   "cell_type": "code",
   "execution_count": 35,
   "id": "9d0516b0",
   "metadata": {
    "execution": {
     "iopub.execute_input": "2022-12-08T18:31:49.690181Z",
     "iopub.status.busy": "2022-12-08T18:31:49.689756Z",
     "iopub.status.idle": "2022-12-08T18:31:49.743556Z",
     "shell.execute_reply": "2022-12-08T18:31:49.742139Z"
    },
    "papermill": {
     "duration": 0.080624,
     "end_time": "2022-12-08T18:31:49.746548",
     "exception": false,
     "start_time": "2022-12-08T18:31:49.665924",
     "status": "completed"
    },
    "tags": []
   },
   "outputs": [
    {
     "name": "stdout",
     "output_type": "stream",
     "text": [
      "Train_x : (119451, 25)\n",
      "Test_x : (29863, 25)\n",
      "Train_y : (119451,)\n",
      "Test_y : (29863,)\n"
     ]
    }
   ],
   "source": [
    "train_x, test_x, train_y, test_y = train_test_split(x_resampled,y_resampled, test_size=0.2, random_state=42)\n",
    "print(\"Train_x :\",train_x.shape)\n",
    "print(\"Test_x :\",test_x.shape)\n",
    "print(\"Train_y :\",train_y.shape)\n",
    "print(\"Test_y :\",test_y.shape)"
   ]
  },
  {
   "cell_type": "markdown",
   "id": "17bc58b4",
   "metadata": {
    "papermill": {
     "duration": 0.022811,
     "end_time": "2022-12-08T18:31:49.792101",
     "exception": false,
     "start_time": "2022-12-08T18:31:49.769290",
     "status": "completed"
    },
    "tags": []
   },
   "source": [
    "# Logistic Regression After Undersampling"
   ]
  },
  {
   "cell_type": "code",
   "execution_count": 36,
   "id": "28820b55",
   "metadata": {
    "execution": {
     "iopub.execute_input": "2022-12-08T18:31:49.839833Z",
     "iopub.status.busy": "2022-12-08T18:31:49.839366Z",
     "iopub.status.idle": "2022-12-08T18:31:52.157652Z",
     "shell.execute_reply": "2022-12-08T18:31:52.155916Z"
    },
    "papermill": {
     "duration": 2.347053,
     "end_time": "2022-12-08T18:31:52.162288",
     "exception": false,
     "start_time": "2022-12-08T18:31:49.815235",
     "status": "completed"
    },
    "tags": []
   },
   "outputs": [
    {
     "name": "stdout",
     "output_type": "stream",
     "text": [
      "Logistic Regression Accuracy : 0.9052004152295483\n"
     ]
    }
   ],
   "source": [
    "logreg = LogisticRegression()\n",
    "logreg.fit(train_x,train_y)\n",
    "print(\"Logistic Regression Accuracy :\",logreg.score(test_x, test_y))"
   ]
  },
  {
   "cell_type": "code",
   "execution_count": 37,
   "id": "cd1a62d9",
   "metadata": {
    "execution": {
     "iopub.execute_input": "2022-12-08T18:31:52.274742Z",
     "iopub.status.busy": "2022-12-08T18:31:52.274202Z",
     "iopub.status.idle": "2022-12-08T18:31:52.317573Z",
     "shell.execute_reply": "2022-12-08T18:31:52.315108Z"
    },
    "papermill": {
     "duration": 0.101109,
     "end_time": "2022-12-08T18:31:52.322279",
     "exception": false,
     "start_time": "2022-12-08T18:31:52.221170",
     "status": "completed"
    },
    "tags": []
   },
   "outputs": [
    {
     "name": "stdout",
     "output_type": "stream",
     "text": [
      "Logistic Regression F1 Score : [0.90619305 0.90418655]\n"
     ]
    }
   ],
   "source": [
    "print(\"Logistic Regression F1 Score :\",f1_score(test_y,logreg.predict(test_x),average=None))"
   ]
  },
  {
   "cell_type": "code",
   "execution_count": 38,
   "id": "4e7f670f",
   "metadata": {
    "execution": {
     "iopub.execute_input": "2022-12-08T18:31:52.424295Z",
     "iopub.status.busy": "2022-12-08T18:31:52.423807Z",
     "iopub.status.idle": "2022-12-08T18:31:52.805034Z",
     "shell.execute_reply": "2022-12-08T18:31:52.803949Z"
    },
    "papermill": {
     "duration": 0.424497,
     "end_time": "2022-12-08T18:31:52.807897",
     "exception": false,
     "start_time": "2022-12-08T18:31:52.383400",
     "status": "completed"
    },
    "tags": []
   },
   "outputs": [
    {
     "data": {
      "image/png": "[encoded data removed]",
      "text/plain": [
       "<Figure size 432x288 with 2 Axes>"
      ]
     },
     "metadata": {
      "needs_background": "light"
     },
     "output_type": "display_data"
    }
   ],
   "source": [
    "sns.heatmap(confusion_matrix(test_y, logreg.predict(test_x)), annot=True, fmt=\".0f\")\n",
    "plt.title(\"Logistic Regression Confusion Matrix\",fontsize=18, color=\"red\");"
   ]
  },
  {
   "cell_type": "markdown",
   "id": "40f2a7ba",
   "metadata": {
    "papermill": {
     "duration": 0.02311,
     "end_time": "2022-12-08T18:31:52.855470",
     "exception": false,
     "start_time": "2022-12-08T18:31:52.832360",
     "status": "completed"
    },
    "tags": []
   },
   "source": [
    "* We solved the problem with Undersampling. We also could've used Oversampling and probably we would get better accuracy but i think it would be so tiring for computer."
   ]
  },
  {
   "cell_type": "markdown",
   "id": "9d8a8965",
   "metadata": {
    "papermill": {
     "duration": 0.022637,
     "end_time": "2022-12-08T18:31:52.901451",
     "exception": false,
     "start_time": "2022-12-08T18:31:52.878814",
     "status": "completed"
    },
    "tags": []
   },
   "source": [
    "## Logistic Regression Curve"
   ]
  },
  {
   "cell_type": "code",
   "execution_count": 39,
   "id": "59954f9b",
   "metadata": {
    "execution": {
     "iopub.execute_input": "2022-12-08T18:31:52.951374Z",
     "iopub.status.busy": "2022-12-08T18:31:52.950946Z",
     "iopub.status.idle": "2022-12-08T18:31:53.228701Z",
     "shell.execute_reply": "2022-12-08T18:31:53.226803Z"
    },
    "papermill": {
     "duration": 0.30698,
     "end_time": "2022-12-08T18:31:53.231700",
     "exception": false,
     "start_time": "2022-12-08T18:31:52.924720",
     "status": "completed"
    },
    "tags": []
   },
   "outputs": [
    {
     "data": {
      "image/png": "[encoded data removed]",
      "text/plain": [
       "<Figure size 432x288 with 1 Axes>"
      ]
     },
     "metadata": {
      "needs_background": "light"
     },
     "output_type": "display_data"
    }
   ],
   "source": [
    "from sklearn.metrics import roc_curve\n",
    "test_y = test_y.replace({2:1,1:0})\n",
    "# Probabilities\n",
    "logreg_pred_proba = logreg.predict_proba(test_x)\n",
    "\n",
    "fpr, tpr, thresholds = roc_curve(test_y, logreg_pred_proba[:,1])\n",
    "plt.plot([0,1],[0,1],\"k--\")\n",
    "plt.plot(fpr, tpr, label = \"Logistic Regression\")\n",
    "plt.xlabel(\"False Positive Rate\")\n",
    "plt.ylabel(\"True Positive Rate\")\n",
    "plt.title(\"Logistic Regression ROC Curve\")\n",
    "plt.show()"
   ]
  },
  {
   "cell_type": "markdown",
   "id": "06b096e0",
   "metadata": {
    "papermill": {
     "duration": 0.025338,
     "end_time": "2022-12-08T18:31:53.283130",
     "exception": false,
     "start_time": "2022-12-08T18:31:53.257792",
     "status": "completed"
    },
    "tags": []
   },
   "source": [
    "# Conclusion\n",
    "* In this project i predicted \"Death\" situation with %90 accuracy.\n",
    "* I just used one algorithm Logistic Regression.\n",
    "* The important point in this project was solving the imbalance dataset problem. I figured it out with Undersampling method.\n",
    "* If you found this notebook beneficial please upvote it and follow me. Thanks..."
   ]
  }
 ],
 "metadata": {
  "kernelspec": {
   "display_name": "Python 3",
   "language": "python",
   "name": "python3"
  },
  "language_info": {
   "codemirror_mode": {
    "name": "ipython",
    "version": 3
   },
   "file_extension": ".py",
   "mimetype": "text/x-python",
   "name": "python",
   "nbconvert_exporter": "python",
   "pygments_lexer": "ipython3",
   "version": "3.7.12"
  },
  "papermill": {
   "default_parameters": {},
   "duration": 50.319046,
   "end_time": "2022-12-08T18:31:54.234107",
   "environment_variables": {},
   "exception": null,
   "input_path": "__notebook__.ipynb",
   "output_path": "__notebook__.ipynb",
   "parameters": {},
   "start_time": "2022-12-08T18:31:03.915061",
   "version": "2.3.4"
  }
 },
 "nbformat": 4,
 "nbformat_minor": 5
}
